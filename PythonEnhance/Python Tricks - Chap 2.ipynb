{
 "cells": [
  {
   "cell_type": "markdown",
   "metadata": {},
   "source": [
    "# Python Tricks\n",
    "\n",
    "## Chapter 2: Patterns for Cleaner Python"
   ]
  },
  {
   "cell_type": "markdown",
   "metadata": {},
   "source": [
    "### 2.1 Covering Your A** With Assertions"
   ]
  },
  {
   "cell_type": "code",
   "execution_count": 2,
   "metadata": {},
   "outputs": [
    {
     "name": "stdout",
     "output_type": "stream",
     "text": [
      "11175\n",
      "tuple always true\n"
     ]
    }
   ],
   "source": [
    "def apply_discount(product, discount):\n",
    "\tprice = int(product['price'] * (1.0 - discount))\n",
    "\tassert 0 <= price <= product['price'], 'This is assert exception'\n",
    "\treturn price\n",
    "\n",
    "shoes = {'name': 'Fancy Shoes', 'price':14900}\n",
    "\n",
    "# legal\n",
    "print(apply_discount(shoes, 0.25))\n",
    "# # illegal\n",
    "# apply_discount(shoes, 2)\n",
    "\n",
    "# in python, tuple always true\n",
    "if (False,False):\n",
    "\tprint('tuple always true')\n",
    "else:\n",
    "\tprint('false')"
   ]
  },
  {
   "cell_type": "markdown",
   "metadata": {},
   "source": [
    "**Summary**\n",
    "\n",
    "1. Python's assert statement is a debugging aid that tests a condition as an internal self-check in your program.\n",
    "\n",
    "2. Assert should only be used to help developers identify bugs. They're not a mechanism for handling run-time errors.\n",
    "\n",
    "3. Assert can be globally disabled with an interpreter setting."
   ]
  },
  {
   "cell_type": "markdown",
   "metadata": {},
   "source": [
    "### 2.2 Complacent Comma Placement"
   ]
  },
  {
   "cell_type": "code",
   "execution_count": 5,
   "metadata": {},
   "outputs": [
    {
     "name": "stdout",
     "output_type": "stream",
     "text": [
      "['Alice', 'Bob', 'Dilbert']\n",
      "['Alice', 'Bob', 'Dilbert']\n",
      "['AliceBobDilbert']\n"
     ]
    }
   ],
   "source": [
    "# Usually we write this in a line\n",
    "names1 = ['Alice', 'Bob', 'Dilbert']\n",
    "\n",
    "# Instead, we can write it in multiple lines\n",
    "names2 = [\n",
    "    'Alice',\n",
    "    'Bob',\n",
    "    'Dilbert', # python allow us to add this comma at the end\n",
    "]\n",
    "\n",
    "# Python's string concatenation can cause trouble sometimes\n",
    "names3 = [\n",
    "    'Alice'\n",
    "    'Bob'\n",
    "    'Dilbert'\n",
    "]\n",
    "print(names1)\n",
    "print(names2)\n",
    "print(names3)"
   ]
  },
  {
   "cell_type": "markdown",
   "metadata": {},
   "source": [
    "**Summary**\n",
    "\n",
    "1. Smart dormatting and comma placement can make your list, dict, or set constants easier to maintain.\n",
    "\n",
    "2. Python's string literal concatenation feature can work to your benifit, or introduce hard-to-catch bugs."
   ]
  },
  {
   "cell_type": "markdown",
   "metadata": {},
   "source": [
    "### 2.3 Context Managers and the `with` Statement"
   ]
  },
  {
   "cell_type": "code",
   "execution_count": 8,
   "metadata": {},
   "outputs": [],
   "source": [
    "# Open a file using with\n",
    "with open('hello.txt', 'w') as f:\n",
    "    f.write('hello, world!')\n",
    "    \n",
    "# Above code works like\n",
    "f = open('hello.txt', 'w')\n",
    "try:\n",
    "    f.write('hello,world!')\n",
    "finally:\n",
    "    f.close()\n",
    "    \n",
    "# To apply with statement in your class\n",
    "class ManagedFile:\n",
    "    def __init__(self, name):\n",
    "        self.name = name\n",
    "    \n",
    "    def __enter__(self):\n",
    "        self.file = open(self.name, 'w')\n",
    "        return self.file\n",
    "    \n",
    "    def __exit__(self, exc_type, exc_val, exc_tb):\n",
    "        if self.file:\n",
    "            self.file.close()\n",
    "            \n",
    "# To use with statement for functions\n",
    "from contextlib import contextmanager\n",
    "\n",
    "@contextmanager\n",
    "def managed_file(name):\n",
    "    try:\n",
    "        f = open(name, 'w')\n",
    "        yield f\n",
    "    finally:\n",
    "        f.close()\n",
    "        \n",
    "with managed_file('hello.txt') as f:\n",
    "    f.write('hello, world!')\n",
    "    f.write('bye now')"
   ]
  },
  {
   "cell_type": "code",
   "execution_count": 10,
   "metadata": {},
   "outputs": [
    {
     "name": "stdout",
     "output_type": "stream",
     "text": [
      "    hi\n",
      "        hello\n",
      "            bonjour\n",
      "    hey\n"
     ]
    }
   ],
   "source": [
    "class Indenter:\n",
    "    def __init__(self):\n",
    "        self.level = 0\n",
    "    \n",
    "    def __enter__(self):\n",
    "        self.level += 1\n",
    "        return self\n",
    "    \n",
    "    def __exit__(self, exc_type, exc_val, exc_tb):\n",
    "        self.level -= 1\n",
    "        \n",
    "    def print(self, text):\n",
    "        print('    ' * self.level + text)\n",
    "        \n",
    "with Indenter() as indent:\n",
    "    indent.print('hi')\n",
    "    with indent:\n",
    "        indent.print('hello')\n",
    "        with indent:\n",
    "            indent.print('bonjour')\n",
    "    indent.print('hey')"
   ]
  },
  {
   "cell_type": "markdown",
   "metadata": {},
   "source": [
    "**Summary**\n",
    "1. The `with` statement simplifies exception handling by encapsulating standard uses of `try/finally` statements in so-called context managers.\n",
    "2. Most commonly it is used to manage the safe acquisition and release of system resources. Resources are acquired by the `with` statement and released automatically when execution leaces the `with` context.\n",
    "3. Using `with` effectively can help you avoid resource leaks and make your code easier to read."
   ]
  },
  {
   "cell_type": "markdown",
   "metadata": {},
   "source": [
    "### 2.4 Underscores, Dunders, and More\n",
    "\n",
    "There are 5 underscore patterns and naming conventions:\n",
    "\n",
    "1. Single Leading Underscore: `_var`\n",
    "\n",
    "    Only conventional meaning.\n",
    "\n",
    "    The underscore prefix is meant as a hint to tell another programmer that a variable or method starting with a single underscore is intended for **internal use**."
   ]
  },
  {
   "cell_type": "code",
   "execution_count": 11,
   "metadata": {},
   "outputs": [
    {
     "name": "stdout",
     "output_type": "stream",
     "text": [
      "t.foo: 11\n",
      "t._bar: 23\n"
     ]
    }
   ],
   "source": [
    "class Test:\n",
    "    def __init__(self):\n",
    "        self.foo = 11\n",
    "        self._bar = 23\n",
    "        \n",
    "t = Test()\n",
    "print('t.foo:', t.foo)\n",
    "print('t._bar:', t._bar)"
   ]
  },
  {
   "cell_type": "markdown",
   "metadata": {},
   "source": [
    "We can see that in this situation, variables in class is still accessable."
   ]
  },
  {
   "cell_type": "code",
   "execution_count": 19,
   "metadata": {},
   "outputs": [],
   "source": [
    "# my_module.py\n",
    "\n",
    "# def external_function():\n",
    "#     return 'external function'\n",
    "\n",
    "# def _internal_function():\n",
    "#     return 'internal function'"
   ]
  },
  {
   "cell_type": "code",
   "execution_count": 2,
   "metadata": {},
   "outputs": [],
   "source": [
    "from source.my_module import *"
   ]
  },
  {
   "cell_type": "code",
   "execution_count": 3,
   "metadata": {},
   "outputs": [
    {
     "name": "stdout",
     "output_type": "stream",
     "text": [
      "external function\n"
     ]
    }
   ],
   "source": [
    "print(external_function())"
   ]
  },
  {
   "cell_type": "code",
   "execution_count": 4,
   "metadata": {},
   "outputs": [
    {
     "ename": "NameError",
     "evalue": "name '_internal_function' is not defined",
     "output_type": "error",
     "traceback": [
      "\u001b[0;31m---------------------------------------------------------------------------\u001b[0m",
      "\u001b[0;31mNameError\u001b[0m                                 Traceback (most recent call last)",
      "\u001b[0;32m<ipython-input-4-9455fc0c0389>\u001b[0m in \u001b[0;36m<module>\u001b[0;34m\u001b[0m\n\u001b[0;32m----> 1\u001b[0;31m \u001b[0mprint\u001b[0m\u001b[0;34m(\u001b[0m\u001b[0m_internal_function\u001b[0m\u001b[0;34m(\u001b[0m\u001b[0;34m)\u001b[0m\u001b[0;34m)\u001b[0m\u001b[0;34m\u001b[0m\u001b[0;34m\u001b[0m\u001b[0m\n\u001b[0m",
      "\u001b[0;31mNameError\u001b[0m: name '_internal_function' is not defined"
     ]
    }
   ],
   "source": [
    "print(_internal_function())"
   ]
  },
  {
   "cell_type": "markdown",
   "metadata": {},
   "source": [
    "If you use a wildcard(\\*) import to import all the names from the modules, Python will not import names with a leading underscore. **However, importing with a wildcard(\\*) is considered as a very bad habit because you should always import what you need.**"
   ]
  },
  {
   "cell_type": "markdown",
   "metadata": {},
   "source": [
    "**Difference between `import module` and `from module import func`**\n",
    "\n",
    "`import module`\n",
    "\n",
    "* **Pros:**\n",
    "\n",
    "    Less maintenance of your `import` statements. Don't need to add any additional imports to start using another item from the module.\n",
    "    \n",
    "* **Cons:**\n",
    "\n",
    "    Typing `module.func` in your code can be tedious and redundant.\n",
    "    \n",
    "`from module import func`\n",
    "\n",
    "* **Pros:**\n",
    "\n",
    "    Less typing to use `func`.\n",
    "    \n",
    "    More control over which items of a module can be accessed.\n",
    "    \n",
    "* **Cons:**\n",
    "\n",
    "    To use a new item from the module you have to update your `import` statement.\n",
    "    \n",
    "    You lose context about `func`. For example, it's less clear what `ceil()` does compared to `math.ceil()`.\n",
    "    \n",
    "**Either method is acceptable, but do NOT use `from module import *`.**"
   ]
  },
  {
   "cell_type": "markdown",
   "metadata": {},
   "source": [
    "2. Single Trailing Underscore: `var_`\n",
    "\n",
    "3. Double Leading Underscore: `__var`\n",
    "\n",
    "4. Double Leading and Trailing Underscore: `__var__`\n",
    "\n",
    "5. Single Underscore: `_`"
   ]
  }
 ],
 "metadata": {
  "kernelspec": {
   "display_name": "Python 3",
   "language": "python",
   "name": "python3"
  },
  "language_info": {
   "codemirror_mode": {
    "name": "ipython",
    "version": 3
   },
   "file_extension": ".py",
   "mimetype": "text/x-python",
   "name": "python",
   "nbconvert_exporter": "python",
   "pygments_lexer": "ipython3",
   "version": "3.7.6"
  }
 },
 "nbformat": 4,
 "nbformat_minor": 2
}
